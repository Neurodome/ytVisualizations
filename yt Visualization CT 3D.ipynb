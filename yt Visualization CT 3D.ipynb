{
 "metadata": {
  "name": ""
 },
 "nbformat": 3,
 "nbformat_minor": 0,
 "worksheets": [
  {
   "cells": [
    {
     "cell_type": "markdown",
     "metadata": {},
     "source": [
      "First we will import all the modules that should be neccesary"
     ]
    },
    {
     "cell_type": "code",
     "collapsed": false,
     "input": [
      "import yt.mods\n",
      "from PIL import Image\n",
      "import numpy\n",
      "import os,glob\n",
      "print \"Libraries Loaded\""
     ],
     "language": "python",
     "metadata": {},
     "outputs": [
      {
       "output_type": "stream",
       "stream": "stdout",
       "text": [
        "Libraries Loaded\n"
       ]
      }
     ],
     "prompt_number": 1
    },
    {
     "cell_type": "markdown",
     "metadata": {},
     "source": [
      "Now we will load the necessary images into a 3D numpy array using Image from the PIL library"
     ]
    },
    {
     "cell_type": "code",
     "collapsed": false,
     "input": [
      "data = numpy.empty((512,512,174))\n",
      "basedir = '.'\n",
      "os.chdir(basedir)\n",
      "fileformatstr = 'CT_set1_*.png'\n",
      "pngfiles = glob.glob(fileformatstr)\n",
      "for z in xrange(174):\n",
      "    png = Image.open(pngfiles[z])\n",
      "    data[:,:,173-z] = numpy.resize(png.getdata(),(512,512))\n",
      "print \"Data Loaded\""
     ],
     "language": "python",
     "metadata": {},
     "outputs": [
      {
       "ename": "IndexError",
       "evalue": "list index out of range",
       "output_type": "pyerr",
       "traceback": [
        "\u001b[0;31m---------------------------------------------------------------------------\u001b[0m\n\u001b[0;31mIndexError\u001b[0m                                Traceback (most recent call last)",
        "\u001b[0;32m<ipython-input-2-0bd1f8e3e313>\u001b[0m in \u001b[0;36m<module>\u001b[0;34m()\u001b[0m\n\u001b[1;32m      5\u001b[0m \u001b[0mpngfiles\u001b[0m \u001b[0;34m=\u001b[0m \u001b[0mglob\u001b[0m\u001b[0;34m.\u001b[0m\u001b[0mglob\u001b[0m\u001b[0;34m(\u001b[0m\u001b[0mfileformatstr\u001b[0m\u001b[0;34m)\u001b[0m\u001b[0;34m\u001b[0m\u001b[0m\n\u001b[1;32m      6\u001b[0m \u001b[0;32mfor\u001b[0m \u001b[0mz\u001b[0m \u001b[0;32min\u001b[0m \u001b[0mxrange\u001b[0m\u001b[0;34m(\u001b[0m\u001b[0;36m174\u001b[0m\u001b[0;34m)\u001b[0m\u001b[0;34m:\u001b[0m\u001b[0;34m\u001b[0m\u001b[0m\n\u001b[0;32m----> 7\u001b[0;31m     \u001b[0mpng\u001b[0m \u001b[0;34m=\u001b[0m \u001b[0mImage\u001b[0m\u001b[0;34m.\u001b[0m\u001b[0mopen\u001b[0m\u001b[0;34m(\u001b[0m\u001b[0mpngfiles\u001b[0m\u001b[0;34m[\u001b[0m\u001b[0mz\u001b[0m\u001b[0;34m]\u001b[0m\u001b[0;34m)\u001b[0m\u001b[0;34m\u001b[0m\u001b[0m\n\u001b[0m\u001b[1;32m      8\u001b[0m     \u001b[0mdata\u001b[0m\u001b[0;34m[\u001b[0m\u001b[0;34m:\u001b[0m\u001b[0;34m,\u001b[0m\u001b[0;34m:\u001b[0m\u001b[0;34m,\u001b[0m\u001b[0;36m173\u001b[0m\u001b[0;34m-\u001b[0m\u001b[0mz\u001b[0m\u001b[0;34m]\u001b[0m \u001b[0;34m=\u001b[0m \u001b[0mnumpy\u001b[0m\u001b[0;34m.\u001b[0m\u001b[0mresize\u001b[0m\u001b[0;34m(\u001b[0m\u001b[0mpng\u001b[0m\u001b[0;34m.\u001b[0m\u001b[0mgetdata\u001b[0m\u001b[0;34m(\u001b[0m\u001b[0;34m)\u001b[0m\u001b[0;34m,\u001b[0m\u001b[0;34m(\u001b[0m\u001b[0;36m512\u001b[0m\u001b[0;34m,\u001b[0m\u001b[0;36m512\u001b[0m\u001b[0;34m)\u001b[0m\u001b[0;34m)\u001b[0m\u001b[0;34m\u001b[0m\u001b[0m\n\u001b[1;32m      9\u001b[0m \u001b[0;32mprint\u001b[0m \u001b[0;34m\"Data Loaded\"\u001b[0m\u001b[0;34m\u001b[0m\u001b[0m\n",
        "\u001b[0;31mIndexError\u001b[0m: list index out of range"
       ]
      }
     ],
     "prompt_number": 2
    },
    {
     "cell_type": "markdown",
     "metadata": {},
     "source": [
      "Now all that is left to do is get yt to visualize the data that we imported. It is possible to get yt to visulazie any data that can represented as a three dimensional numpy array, which is the best way to get it to render out images."
     ]
    },
    {
     "cell_type": "code",
     "collapsed": false,
     "input": [
      "dictdata = dict(Density = data)\n",
      "bbox = np.array([[-1.5, 1.5], [-1.5, 1.5], [-1.5, 1.5]])\n",
      "pf = yt.imods.load_uniform_grid(dictdata, data.shape,.5,bbox=bbox, nprocs=12)"
     ],
     "language": "python",
     "metadata": {},
     "outputs": [
      {
       "output_type": "stream",
       "stream": "stderr",
       "text": [
        "yt : [INFO     ] 2014-02-23 01:06:07,568 Parameters: current_time              = 0.0\n"
       ]
      },
      {
       "output_type": "stream",
       "stream": "stderr",
       "text": [
        "yt : [INFO     ] 2014-02-23 01:06:07,569 Parameters: domain_dimensions         = [512 512 174]\n"
       ]
      },
      {
       "output_type": "stream",
       "stream": "stderr",
       "text": [
        "yt : [INFO     ] 2014-02-23 01:06:07,570 Parameters: domain_left_edge          = [-1.5 -1.5 -1.5]\n"
       ]
      },
      {
       "output_type": "stream",
       "stream": "stderr",
       "text": [
        "yt : [INFO     ] 2014-02-23 01:06:07,571 Parameters: domain_right_edge         = [ 1.5  1.5  1.5]\n"
       ]
      },
      {
       "output_type": "stream",
       "stream": "stderr",
       "text": [
        "yt : [INFO     ] 2014-02-23 01:06:07,571 Parameters: cosmological_simulation   = 0.0\n"
       ]
      }
     ],
     "prompt_number": 3
    },
    {
     "cell_type": "markdown",
     "metadata": {},
     "source": []
    },
    {
     "cell_type": "code",
     "collapsed": false,
     "input": [
      "field = 'Density'\n",
      "use_log = False\n",
      "dd = pf.h.all_data()\n",
      "mi, ma = dd.quantities[\"Extrema\"](field)[0]\n",
      "if use_log:\n",
      "    mi,ma = np.log10(mi), np.log10(ma)\n",
      "tf = yt.imods.ColorTransferFunction((mi, ma))\n",
      "tf.add_gaussian(110.0, 8.0,[0.2,0.5,1.0,1.0])\n",
      "tf.add_gaussian(160.0, 8.0,[1.0,1.0,0.2,1.0])\n",
      "tf.add_gaussian(200.0, 5.0,[1.0,0.3,0.2,1.0])\n",
      "#print mi,ma"
     ],
     "language": "python",
     "metadata": {},
     "outputs": [
      {
       "output_type": "stream",
       "stream": "stderr",
       "text": [
        "yt : [INFO     ] 2014-02-23 01:06:07,580 Adding Density to list of fields\n"
       ]
      }
     ],
     "prompt_number": 4
    },
    {
     "cell_type": "markdown",
     "metadata": {},
     "source": [
      "The final step is to intialize the camera object. There are some bugs that I have found from playing arround. It is not recomended to set the view width more than 1.8. If you get a black screen, try to zoom in a bit, eiter by decreasing W or incresing a zoom factor that you may have set."
     ]
    },
    {
     "cell_type": "code",
     "collapsed": false,
     "input": [
      "c = (pf.domain_right_edge + pf.domain_left_edge)/2.0\n",
      "L = np.array([1.,0,0])\n",
      "W = 1.8\n",
      "N = 1080\n",
      "cam = pf.h.camera(c, L, W, N, tf, fields = [field], log_fields = [use_log])\n",
      "cam.zoom(0.5)"
     ],
     "language": "python",
     "metadata": {},
     "outputs": [
      {
       "output_type": "stream",
       "stream": "stderr",
       "text": [
        "yt : [INFO     ] 2014-02-23 01:06:08,172 Warning: no_ghost is currently True (default). This may lead to artifacts at grid boundaries.\n"
       ]
      }
     ],
     "prompt_number": 5
    },
    {
     "cell_type": "markdown",
     "metadata": {},
     "source": [
      "Now we can transform the camera and cast rays to render out. As a note, it does not appear as though the snapshot method will rotate with the camera. I have not tried this with other camera movemets."
     ]
    },
    {
     "cell_type": "code",
     "collapsed": false,
     "input": [
      "#cam.rotate(numpy.pi/2+.015,L)\n",
      "tdcam = yt.visualization.volume_rendering.camera.StereoPairCamera(cam,relative_separation=0.01)\n",
      "[lcam,rcam] = tdcam.split()\n",
      "lcam.show(clip_ratio=5.)\n",
      "rcam.show(clip_ratio=5.)"
     ],
     "language": "python",
     "metadata": {},
     "outputs": [
      {
       "output_type": "stream",
       "stream": "stderr",
       "text": [
        "yt : [INFO     ] 2014-02-23 01:06:08,179 Warning: no_ghost is currently True (default). This may lead to artifacts at grid boundaries.\n"
       ]
      },
      {
       "output_type": "stream",
       "stream": "stderr",
       "text": [
        "yt : [INFO     ] 2014-02-23 01:06:08,180 Warning: no_ghost is currently True (default). This may lead to artifacts at grid boundaries.\n"
       ]
      },
      {
       "metadata": {},
       "output_type": "display_data",
       "png": "[encoded data removed]"
      },
      {
       "metadata": {},
       "output_type": "display_data",
       "png": "[encoded data removed]"
      }
     ],
     "prompt_number": 6
    },
    {
     "cell_type": "code",
     "collapsed": false,
     "input": [
      "tf.clear()\n",
      "lcamt0 = numpy.arctan(lcam.orienter.normal_vector[1]/lcam.orienter.normal_vector[0])\n",
      "rcamt0 = numpy.arctan(rcam.orienter.normal_vector[1]/rcam.orienter.normal_vector[0])\n",
      "tf.add_gaussian(110.0, 8.0,[0.2,0.5,1.0,1.0])\n",
      "tf.add_gaussian(160.0, 8.0,[1.0,1.0,0.2,1.0])\n",
      "tf.add_gaussian(200.0, 5.0,[1.0,0.3,0.2,1.0])\n",
      "for frame,theta in enumerate(numpy.linspace(0,2*numpy.pi,361)):\n",
      "    lcam.switch_view(normal_vector=[numpy.cos(theta+lcamt0),numpy.sin(theta+lcamt0),lcam.orienter.normal_vector[2]])\n",
      "    rcam.switch_view(normal_vector=[numpy.cos(theta+rcamt0),numpy.sin(theta+rcamt0),lcam.orienter.normal_vector[2]])\n",
      "    lcam.snapshot('YouTubeRenderCT3DL-%s%d.png' % (\"0\"*(4-len(str(frame))),frame),clip_ratio= 5.0)\n",
      "    rcam.snapshot('YouTubeRenderCT3DR-%s%d.png' % (\"0\"*(4-len(str(frame))),frame),clip_ratio= 5.0)\n",
      "offset = 361\n",
      "for frame,alpha in enumerate(numpy.linspace(1,.4,50)):\n",
      "    tf.clear()\n",
      "    tf.add_gaussian(127, 1.5,[220./255,153./255,130./255,(1.0-alpha)/(0.6)])\n",
      "    tf.add_gaussian(110.0, 8.0,[0.2,0.5,1.0,alpha])\n",
      "    tf.add_gaussian(160.0, 8.0,[1.0,1.0,0.2,alpha])\n",
      "    tf.add_gaussian(200.0, 5.0,[1.0,0.3,0.2,alpha])\n",
      "    lcam.snapshot('YouTubeRenderCT3DL-%s%d.png' % (\"0\"*(4-len(str(frame+offset))),frame+offset),clip_ratio= 5.0)\n",
      "    rcam.snapshot('YouTubeRenderCT3DR-%s%d.png' % (\"0\"*(4-len(str(frame+offset))),frame+offset),clip_ratio= 5.0)\n",
      "tf.clear()\n",
      "tf.add_gaussian(127, 1.5,[220./255,153./255,130./255,1.0])\n",
      "offset += 50\n",
      "for frame,theta in enumerate(numpy.linspace(0,2*numpy.pi,361)):\n",
      "    lcam.switch_view(normal_vector=[numpy.cos(theta+lcamt0),numpy.sin(theta+lcamt0),lcam.orienter.normal_vector[2]])\n",
      "    rcam.switch_view(normal_vector=[numpy.cos(theta+rcamt0),numpy.sin(theta+rcamt0),lcam.orienter.normal_vector[2]])\n",
      "    lcam.snapshot('YouTubeRenderCT3DL-%s%d.png' % (\"0\"*(4-len(str(frame+offset))),frame+offset),clip_ratio= 5.0)\n",
      "    rcam.snapshot('YouTubeRenderCT3DR-%s%d.png' % (\"0\"*(4-len(str(frame+offset))),frame+offset),clip_ratio= 5.0)\n",
      "offset+=361\n",
      "for frame,alpha in enumerate(numpy.linspace(0,1.,50)):\n",
      "    tf.clear()\n",
      "    tf.add_gaussian(127, 1.5,[220./255,153./255,130./255,(1.0-alpha)/(0.6)])\n",
      "    tf.add_gaussian(200.0, 5.0,[0.,1.,0.,alpha])\n",
      "    lcam.snapshot('YouTubeRenderCT3DL-%s%d.png' % (\"0\"*(4-len(str(frame+offset))),frame+offset),clip_ratio= 5.0)\n",
      "    rcam.snapshot('YouTubeRenderCT3DR-%s%d.png' % (\"0\"*(4-len(str(frame+offset))),frame+offset),clip_ratio= 5.0)\n",
      "offset += 50\n",
      "for frame,theta in enumerate(numpy.linspace(0,2*numpy.pi,361)):\n",
      "    lcam.switch_view(normal_vector=[numpy.cos(theta+lcamt0),numpy.sin(theta+lcamt0),lcam.orienter.normal_vector[2]])\n",
      "    rcam.switch_view(normal_vector=[numpy.cos(theta+rcamt0),numpy.sin(theta+rcamt0),lcam.orienter.normal_vector[2]])\n",
      "    tf.clear()\n",
      "    tf.add_gaussian(155.0+45.*np.cos(theta/2), 5.0, [0.5-np.cos(theta/2),1.,0])\n",
      "    lcam.snapshot('YouTubeRenderCT3DL-%s%d.png' % (\"0\"*(4-len(str(frame+offset))),frame+offset),clip_ratio= 5.0)\n",
      "    rcam.snapshot('YouTubeRenderCT3DR-%s%d.png' % (\"0\"*(4-len(str(frame+offset))),frame+offset),clip_ratio= 5.0)"
     ],
     "language": "python",
     "metadata": {},
     "outputs": [
      {
       "ename": "KeyboardInterrupt",
       "evalue": "",
       "output_type": "pyerr",
       "traceback": [
        "\u001b[0;31m---------------------------------------------------------------------------\u001b[0m\n\u001b[0;31mKeyboardInterrupt\u001b[0m                         Traceback (most recent call last)",
        "\u001b[0;32m<ipython-input-7-5c40e4920e84>\u001b[0m in \u001b[0;36m<module>\u001b[0;34m()\u001b[0m\n\u001b[1;32m      9\u001b[0m     \u001b[0mrcam\u001b[0m\u001b[0;34m.\u001b[0m\u001b[0mswitch_view\u001b[0m\u001b[0;34m(\u001b[0m\u001b[0mnormal_vector\u001b[0m\u001b[0;34m=\u001b[0m\u001b[0;34m[\u001b[0m\u001b[0mnumpy\u001b[0m\u001b[0;34m.\u001b[0m\u001b[0mcos\u001b[0m\u001b[0;34m(\u001b[0m\u001b[0mtheta\u001b[0m\u001b[0;34m+\u001b[0m\u001b[0mrcamt0\u001b[0m\u001b[0;34m)\u001b[0m\u001b[0;34m,\u001b[0m\u001b[0mnumpy\u001b[0m\u001b[0;34m.\u001b[0m\u001b[0msin\u001b[0m\u001b[0;34m(\u001b[0m\u001b[0mtheta\u001b[0m\u001b[0;34m+\u001b[0m\u001b[0mrcamt0\u001b[0m\u001b[0;34m)\u001b[0m\u001b[0;34m,\u001b[0m\u001b[0mlcam\u001b[0m\u001b[0;34m.\u001b[0m\u001b[0morienter\u001b[0m\u001b[0;34m.\u001b[0m\u001b[0mnormal_vector\u001b[0m\u001b[0;34m[\u001b[0m\u001b[0;36m2\u001b[0m\u001b[0;34m]\u001b[0m\u001b[0;34m]\u001b[0m\u001b[0;34m)\u001b[0m\u001b[0;34m\u001b[0m\u001b[0m\n\u001b[1;32m     10\u001b[0m     \u001b[0mlcam\u001b[0m\u001b[0;34m.\u001b[0m\u001b[0msnapshot\u001b[0m\u001b[0;34m(\u001b[0m\u001b[0;34m'YouTubeRenderCT3DL-%s%d.png'\u001b[0m \u001b[0;34m%\u001b[0m \u001b[0;34m(\u001b[0m\u001b[0;34m\"0\"\u001b[0m\u001b[0;34m*\u001b[0m\u001b[0;34m(\u001b[0m\u001b[0;36m4\u001b[0m\u001b[0;34m-\u001b[0m\u001b[0mlen\u001b[0m\u001b[0;34m(\u001b[0m\u001b[0mstr\u001b[0m\u001b[0;34m(\u001b[0m\u001b[0mframe\u001b[0m\u001b[0;34m)\u001b[0m\u001b[0;34m)\u001b[0m\u001b[0;34m)\u001b[0m\u001b[0;34m,\u001b[0m\u001b[0mframe\u001b[0m\u001b[0;34m)\u001b[0m\u001b[0;34m,\u001b[0m\u001b[0mclip_ratio\u001b[0m\u001b[0;34m=\u001b[0m \u001b[0;36m5.0\u001b[0m\u001b[0;34m)\u001b[0m\u001b[0;34m\u001b[0m\u001b[0m\n\u001b[0;32m---> 11\u001b[0;31m     \u001b[0mrcam\u001b[0m\u001b[0;34m.\u001b[0m\u001b[0msnapshot\u001b[0m\u001b[0;34m(\u001b[0m\u001b[0;34m'YouTubeRenderCT3DR-%s%d.png'\u001b[0m \u001b[0;34m%\u001b[0m \u001b[0;34m(\u001b[0m\u001b[0;34m\"0\"\u001b[0m\u001b[0;34m*\u001b[0m\u001b[0;34m(\u001b[0m\u001b[0;36m4\u001b[0m\u001b[0;34m-\u001b[0m\u001b[0mlen\u001b[0m\u001b[0;34m(\u001b[0m\u001b[0mstr\u001b[0m\u001b[0;34m(\u001b[0m\u001b[0mframe\u001b[0m\u001b[0;34m)\u001b[0m\u001b[0;34m)\u001b[0m\u001b[0;34m)\u001b[0m\u001b[0;34m,\u001b[0m\u001b[0mframe\u001b[0m\u001b[0;34m)\u001b[0m\u001b[0;34m,\u001b[0m\u001b[0mclip_ratio\u001b[0m\u001b[0;34m=\u001b[0m \u001b[0;36m5.0\u001b[0m\u001b[0;34m)\u001b[0m\u001b[0;34m\u001b[0m\u001b[0m\n\u001b[0m\u001b[1;32m     12\u001b[0m \u001b[0moffset\u001b[0m \u001b[0;34m=\u001b[0m \u001b[0;36m361\u001b[0m\u001b[0;34m\u001b[0m\u001b[0m\n\u001b[1;32m     13\u001b[0m \u001b[0;32mfor\u001b[0m \u001b[0mframe\u001b[0m\u001b[0;34m,\u001b[0m\u001b[0malpha\u001b[0m \u001b[0;32min\u001b[0m \u001b[0menumerate\u001b[0m\u001b[0;34m(\u001b[0m\u001b[0mnumpy\u001b[0m\u001b[0;34m.\u001b[0m\u001b[0mlinspace\u001b[0m\u001b[0;34m(\u001b[0m\u001b[0;36m1\u001b[0m\u001b[0;34m,\u001b[0m\u001b[0;36m.4\u001b[0m\u001b[0;34m,\u001b[0m\u001b[0;36m50\u001b[0m\u001b[0;34m)\u001b[0m\u001b[0;34m)\u001b[0m\u001b[0;34m:\u001b[0m\u001b[0;34m\u001b[0m\u001b[0m\n",
        "\u001b[0;32m/Applications/anaconda/lib/python2.7/site-packages/yt/visualization/volume_rendering/camera.pyc\u001b[0m in \u001b[0;36msnapshot\u001b[0;34m(self, fn, clip_ratio, double_check, num_threads, transparent)\u001b[0m\n\u001b[1;32m    734\u001b[0m         \u001b[0mself\u001b[0m\u001b[0;34m.\u001b[0m\u001b[0minitialize_source\u001b[0m\u001b[0;34m(\u001b[0m\u001b[0;34m)\u001b[0m\u001b[0;34m\u001b[0m\u001b[0m\n\u001b[1;32m    735\u001b[0m         image = ImageArray(self._render(double_check, num_threads, \n\u001b[0;32m--> 736\u001b[0;31m                                         image, sampler),\n\u001b[0m\u001b[1;32m    737\u001b[0m                            info=self.get_information())\n\u001b[1;32m    738\u001b[0m         self.save_image(image, fn=fn, clip_ratio=clip_ratio, \n",
        "\u001b[0;32m/Applications/anaconda/lib/python2.7/site-packages/yt/visualization/volume_rendering/camera.pyc\u001b[0m in \u001b[0;36m_render\u001b[0;34m(self, double_check, num_threads, image, sampler)\u001b[0m\n\u001b[1;32m    617\u001b[0m         \u001b[0mview_pos\u001b[0m \u001b[0;34m=\u001b[0m \u001b[0mself\u001b[0m\u001b[0;34m.\u001b[0m\u001b[0mfront_center\u001b[0m \u001b[0;34m+\u001b[0m \u001b[0mself\u001b[0m\u001b[0;34m.\u001b[0m\u001b[0morienter\u001b[0m\u001b[0;34m.\u001b[0m\u001b[0munit_vectors\u001b[0m\u001b[0;34m[\u001b[0m\u001b[0;36m2\u001b[0m\u001b[0;34m]\u001b[0m \u001b[0;34m*\u001b[0m \u001b[0;36m1.0e6\u001b[0m \u001b[0;34m*\u001b[0m \u001b[0mself\u001b[0m\u001b[0;34m.\u001b[0m\u001b[0mwidth\u001b[0m\u001b[0;34m[\u001b[0m\u001b[0;36m2\u001b[0m\u001b[0;34m]\u001b[0m\u001b[0;34m\u001b[0m\u001b[0m\n\u001b[1;32m    618\u001b[0m         \u001b[0;32mfor\u001b[0m \u001b[0mbrick\u001b[0m \u001b[0;32min\u001b[0m \u001b[0mself\u001b[0m\u001b[0;34m.\u001b[0m\u001b[0mvolume\u001b[0m\u001b[0;34m.\u001b[0m\u001b[0mtraverse\u001b[0m\u001b[0;34m(\u001b[0m\u001b[0mview_pos\u001b[0m\u001b[0;34m)\u001b[0m\u001b[0;34m:\u001b[0m\u001b[0;34m\u001b[0m\u001b[0m\n\u001b[0;32m--> 619\u001b[0;31m             \u001b[0msampler\u001b[0m\u001b[0;34m(\u001b[0m\u001b[0mbrick\u001b[0m\u001b[0;34m,\u001b[0m \u001b[0mnum_threads\u001b[0m\u001b[0;34m=\u001b[0m\u001b[0mnum_threads\u001b[0m\u001b[0;34m)\u001b[0m\u001b[0;34m\u001b[0m\u001b[0m\n\u001b[0m\u001b[1;32m    620\u001b[0m             \u001b[0mtotal_cells\u001b[0m \u001b[0;34m+=\u001b[0m \u001b[0mnp\u001b[0m\u001b[0;34m.\u001b[0m\u001b[0mprod\u001b[0m\u001b[0;34m(\u001b[0m\u001b[0mbrick\u001b[0m\u001b[0;34m.\u001b[0m\u001b[0mmy_data\u001b[0m\u001b[0;34m[\u001b[0m\u001b[0;36m0\u001b[0m\u001b[0;34m]\u001b[0m\u001b[0;34m.\u001b[0m\u001b[0mshape\u001b[0m\u001b[0;34m)\u001b[0m\u001b[0;34m\u001b[0m\u001b[0m\n\u001b[1;32m    621\u001b[0m             \u001b[0mpbar\u001b[0m\u001b[0;34m.\u001b[0m\u001b[0mupdate\u001b[0m\u001b[0;34m(\u001b[0m\u001b[0mtotal_cells\u001b[0m\u001b[0;34m)\u001b[0m\u001b[0;34m\u001b[0m\u001b[0m\n",
        "\u001b[0;31mKeyboardInterrupt\u001b[0m: "
       ]
      }
     ],
     "prompt_number": 7
    }
   ],
   "metadata": {}
  }
 ]
}