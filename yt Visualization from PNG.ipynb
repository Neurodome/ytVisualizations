{
 "metadata": {
  "name": ""
 },
 "nbformat": 3,
 "nbformat_minor": 0,
 "worksheets": [
  {
   "cells": [
    {
     "cell_type": "markdown",
     "metadata": {},
     "source": [
      "First we will import all the modules that should be neccesary"
     ]
    },
    {
     "cell_type": "code",
     "collapsed": false,
     "input": [
      "from yt.imods import *\n",
      "from PIL import Image\n",
      "import numpy\n",
      "import os,glob\n",
      "print \"Libraries Loaded\""
     ],
     "language": "python",
     "metadata": {},
     "outputs": [
      {
       "output_type": "stream",
       "stream": "stdout",
       "text": [
        "Libraries Loaded\n"
       ]
      }
     ],
     "prompt_number": 2
    },
    {
     "cell_type": "markdown",
     "metadata": {},
     "source": [
      "Now we will load the necessary images into a 3D numpy array using Image from the PIL library"
     ]
    },
    {
     "cell_type": "code",
     "collapsed": false,
     "input": [
      "data = numpy.empty((512,512,174))\n",
      "arr = glob.glob('CT_set1_*.png')\n",
      "for z in range(173,-1,-1):\n",
      "    datazero = 0\n",
      "    png = Image.open(arr[z])\n",
      "    png.load()?\n",
      "print \"Data Loaded\""
     ],
     "language": "python",
     "metadata": {},
     "outputs": [
      {
       "ename": "SyntaxError",
       "evalue": "invalid syntax (<ipython-input-9-3cbd33baaa22>, line 6)",
       "output_type": "pyerr",
       "traceback": [
        "\u001b[0;36m  File \u001b[0;32m\"<ipython-input-9-3cbd33baaa22>\"\u001b[0;36m, line \u001b[0;32m6\u001b[0m\n\u001b[0;31m    png.load()?\u001b[0m\n\u001b[0m              ^\u001b[0m\n\u001b[0;31mSyntaxError\u001b[0m\u001b[0;31m:\u001b[0m invalid syntax\n"
       ]
      }
     ],
     "prompt_number": 9
    },
    {
     "cell_type": "markdown",
     "metadata": {},
     "source": [
      "Now all that is left to do is get yt to visualize the data that we imported. It is possible to get yt to visulazie any data that can represented as a three dimensional numpy array, which is the best way to get it to render out images."
     ]
    },
    {
     "cell_type": "code",
     "collapsed": false,
     "input": [
      "dictdata = dict(Density = data)\n",
      "bbox = np.array([[-1.5, 1.5], [-1.5, 1.5], [-1.5, 1.5]])\n",
      "pf = load_uniform_grid(dictdata, data.shape,.5,bbox=bbox, nprocs=12)"
     ],
     "language": "python",
     "metadata": {},
     "outputs": [
      {
       "output_type": "stream",
       "stream": "stderr",
       "text": [
        "yt : [INFO     ] 2014-01-17 18:48:31,297 Parameters: current_time              = 0.0\n"
       ]
      },
      {
       "output_type": "stream",
       "stream": "stderr",
       "text": [
        "yt : [INFO     ] 2014-01-17 18:48:31,298 Parameters: domain_dimensions         = [512 512 174]\n"
       ]
      },
      {
       "output_type": "stream",
       "stream": "stderr",
       "text": [
        "yt : [INFO     ] 2014-01-17 18:48:31,299 Parameters: domain_left_edge          = [-1.5 -1.5 -1.5]\n"
       ]
      },
      {
       "output_type": "stream",
       "stream": "stderr",
       "text": [
        "yt : [INFO     ] 2014-01-17 18:48:31,299 Parameters: domain_right_edge         = [ 1.5  1.5  1.5]\n"
       ]
      },
      {
       "output_type": "stream",
       "stream": "stderr",
       "text": [
        "yt : [INFO     ] 2014-01-17 18:48:31,300 Parameters: cosmological_simulation   = 0.0\n"
       ]
      }
     ],
     "prompt_number": 3
    },
    {
     "cell_type": "markdown",
     "metadata": {},
     "source": [
      "Now we set up the color mapping object, which works in log space (1.935 is more than log10(85), which means that the semiactive background is not rendered)"
     ]
    },
    {
     "cell_type": "code",
     "collapsed": false,
     "input": [
      "field = 'Density'\n",
      "use_log = True\n",
      "dd = pf.h.all_data()\n",
      "mi, ma = dd.quantities[\"Extrema\"](field)[0]\n",
      "mi = 85\n",
      "if use_log:\n",
      "    mi,ma = np.log10(mi), np.log10(ma)\n",
      "tf = ColorTransferFunction((mi, ma))\n",
      "tf.add_layers(50, colormap = 'hsv')"
     ],
     "language": "python",
     "metadata": {},
     "outputs": [],
     "prompt_number": 76
    },
    {
     "cell_type": "markdown",
     "metadata": {},
     "source": [
      "The final step is to intialize the camera object. There are some bugs that I have found from playing arround. It is not recomended to set the view width more than 1.8. If you get a black screen, try to zoom in a bit, eiter by decreasing W or incresing a zoom factor that you may have set."
     ]
    },
    {
     "cell_type": "code",
     "collapsed": false,
     "input": [
      "c = (pf.domain_right_edge + pf.domain_left_edge)/2.0\n",
      "L = np.array([.2,1,1])\n",
      "W = 1.8\n",
      "N = 500\n",
      "cam = pf.h.camera(c, L, W, N, tf, fields = [field], log_fields = [use_log])"
     ],
     "language": "python",
     "metadata": {},
     "outputs": [
      {
       "output_type": "stream",
       "stream": "stderr",
       "text": [
        "yt : [INFO     ] 2014-01-17 19:20:43,369 Warning: no_ghost is currently True (default). This may lead to artifacts at grid boundaries.\n"
       ]
      }
     ],
     "prompt_number": 77
    },
    {
     "cell_type": "markdown",
     "metadata": {},
     "source": [
      "Now we can transform the camera and cast rays to render out. As a note, it does not appear as though the snapshot method will rotate with the camera. I have not tried this with other camera movemets."
     ]
    },
    {
     "cell_type": "code",
     "collapsed": false,
     "input": [
      "cam.rotate(numpy.pi/2,L)\n",
      "cam.snapshot('Render2.png')"
     ],
     "language": "python",
     "metadata": {},
     "outputs": [
      {
       "metadata": {},
       "output_type": "pyout",
       "prompt_number": 78,
       "text": [
        "ImageArray([[[  4.25587067e-04,   1.71681150e-03,   2.58902934e-04,\n",
        "           1.00000000e+00],\n",
        "        [  4.14080697e-04,   1.86659293e-03,   2.89688625e-04,\n",
        "           1.00000000e+00],\n",
        "        [  4.04713478e-04,   2.11382192e-03,   3.32144242e-04,\n",
        "           1.00000000e+00],\n",
        "        ..., \n",
        "        [  3.54011352e-04,   6.18636504e-06,   0.00000000e+00,\n",
        "           1.00000000e+00],\n",
        "        [  3.55014948e-04,   6.21736017e-06,   0.00000000e+00,\n",
        "           1.00000000e+00],\n",
        "        [  3.52320214e-04,   4.79165244e-06,   0.00000000e+00,\n",
        "           1.00000000e+00]],\n",
        "\n",
        "       [[  4.16148371e-04,   1.88224254e-03,   2.78040794e-04,\n",
        "           1.00000000e+00],\n",
        "        [  4.17265551e-04,   1.90549333e-03,   2.95301638e-04,\n",
        "           1.00000000e+00],\n",
        "        [  4.09237214e-04,   2.14504836e-03,   3.37229403e-04,\n",
        "           1.00000000e+00],\n",
        "        ..., \n",
        "        [  3.53335999e-04,   5.79575502e-06,   0.00000000e+00,\n",
        "           1.00000000e+00],\n",
        "        [  3.60373396e-04,   5.98268821e-06,   0.00000000e+00,\n",
        "           1.00000000e+00],\n",
        "        [  3.59695518e-04,   4.55757917e-06,   0.00000000e+00,\n",
        "           1.00000000e+00]],\n",
        "\n",
        "       [[  4.28987059e-04,   1.91650925e-03,   2.87702075e-04,\n",
        "           1.00000000e+00],\n",
        "        [  3.85393593e-04,   1.98430731e-03,   3.10346032e-04,\n",
        "           1.00000000e+00],\n",
        "        [  3.82306847e-04,   2.08254473e-03,   3.27926893e-04,\n",
        "           1.00000000e+00],\n",
        "        ..., \n",
        "        [  3.67680450e-04,   5.67712210e-06,   0.00000000e+00,\n",
        "           1.00000000e+00],\n",
        "        [  3.61736137e-04,   5.84585180e-06,   0.00000000e+00,\n",
        "           1.00000000e+00],\n",
        "        [  3.48917172e-04,   4.50841673e-06,   0.00000000e+00,\n",
        "           1.00000000e+00]],\n",
        "\n",
        "       ..., \n",
        "       [[  1.88289724e-04,   1.56678572e-10,   0.00000000e+00,\n",
        "           1.00000000e+00],\n",
        "        [  1.99221287e-04,   1.65775786e-10,   0.00000000e+00,\n",
        "           1.00000000e+00],\n",
        "        [  2.19774992e-04,   1.82880790e-10,   0.00000000e+00,\n",
        "           1.00000000e+00],\n",
        "        ..., \n",
        "        [  2.81008069e-04,   6.75496576e-05,   0.00000000e+00,\n",
        "           1.00000000e+00],\n",
        "        [  2.67815238e-04,   2.23657900e-05,   0.00000000e+00,\n",
        "           1.00000000e+00],\n",
        "        [  2.14432000e-04,   4.80012272e-06,   0.00000000e+00,\n",
        "           1.00000000e+00]],\n",
        "\n",
        "       [[  2.11671523e-04,   1.76136960e-10,   0.00000000e+00,\n",
        "           1.00000000e+00],\n",
        "        [  2.05485223e-04,   1.70988661e-10,   0.00000000e+00,\n",
        "           1.00000000e+00],\n",
        "        [  2.33714685e-04,   1.94481745e-10,   0.00000000e+00,\n",
        "           1.00000000e+00],\n",
        "        ..., \n",
        "        [  2.52941753e-04,   4.89257035e-05,   0.00000000e+00,\n",
        "           1.00000000e+00],\n",
        "        [  2.66193498e-04,   1.99752190e-05,   0.00000000e+00,\n",
        "           1.00000000e+00],\n",
        "        [  2.31145860e-04,   2.81001836e-06,   0.00000000e+00,\n",
        "           1.00000000e+00]],\n",
        "\n",
        "       [[  2.03224503e-04,   1.69107278e-10,   0.00000000e+00,\n",
        "           1.00000000e+00],\n",
        "        [  2.03569381e-04,   1.69394286e-10,   0.00000000e+00,\n",
        "           1.00000000e+00],\n",
        "        [  2.21890298e-04,   1.84641189e-10,   0.00000000e+00,\n",
        "           1.00000000e+00],\n",
        "        ..., \n",
        "        [  2.69087953e-04,   3.77055656e-05,   0.00000000e+00,\n",
        "           1.00000000e+00],\n",
        "        [  2.19046368e-04,   1.15299677e-05,   0.00000000e+00,\n",
        "           1.00000000e+00],\n",
        "        [  2.46840270e-04,   1.62229510e-06,   0.00000000e+00,\n",
        "           1.00000000e+00]]])"
       ]
      }
     ],
     "prompt_number": 78
    },
    {
     "cell_type": "code",
     "collapsed": false,
     "input": [],
     "language": "python",
     "metadata": {},
     "outputs": []
    }
   ],
   "metadata": {}
  }
 ]
}